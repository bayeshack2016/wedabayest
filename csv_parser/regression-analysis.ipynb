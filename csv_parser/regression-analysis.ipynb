{
 "cells": [
  {
   "cell_type": "markdown",
   "metadata": {},
   "source": [
    "###Previewing Our Personal Hand-Crafted Data!"
   ]
  },
  {
   "cell_type": "code",
   "execution_count": 158,
   "metadata": {
    "collapsed": false
   },
   "outputs": [
    {
     "data": {
      "text/html": [
       "<div>\n",
       "<table border=\"1\" class=\"dataframe\">\n",
       "  <thead>\n",
       "    <tr style=\"text-align: right;\">\n",
       "      <th></th>\n",
       "      <th>id</th>\n",
       "      <th>business_id</th>\n",
       "      <th>categories</th>\n",
       "      <th>name</th>\n",
       "      <th>city</th>\n",
       "      <th>state</th>\n",
       "      <th>full_address</th>\n",
       "      <th>latitude</th>\n",
       "      <th>longitude</th>\n",
       "      <th>school_key</th>\n",
       "      <th>scity</th>\n",
       "      <th>sLongitude</th>\n",
       "      <th>sLatitude</th>\n",
       "      <th>High_School_Students</th>\n",
       "      <th>econ_coef</th>\n",
       "      <th>Rank</th>\n",
       "      <th>school_name</th>\n",
       "      <th>zip</th>\n",
       "      <th>Low_Grade</th>\n",
       "      <th>High_Grade</th>\n",
       "      <th>title_1</th>\n",
       "      <th>Charter</th>\n",
       "      <th>Magnet</th>\n",
       "      <th>num_students</th>\n",
       "      <th>Percent_African_American</th>\n",
       "      <th>Percent_American_Indian</th>\n",
       "      <th>Percent_Asian</th>\n",
       "      <th>Percent_Hispanic</th>\n",
       "      <th>Percent_Pacific_Islander</th>\n",
       "      <th>Percent_Two_or_More_Races</th>\n",
       "      <th>Percent_White</th>\n",
       "      <th>score</th>\n",
       "      <th>SchoolDigger_Rating</th>\n",
       "    </tr>\n",
       "  </thead>\n",
       "  <tbody>\n",
       "    <tr>\n",
       "      <th>0</th>\n",
       "      <td>32752</td>\n",
       "      <td>2ZnCITVa0abGce4gZ6RhIw</td>\n",
       "      <td>['American (New)', 'Sandwiches', 'Restaurants']</td>\n",
       "      <td>Viad Tower Restaurants</td>\n",
       "      <td>Phoenix</td>\n",
       "      <td>AZ</td>\n",
       "      <td>1850 N Central Ave\\nPhoenix, AZ 85004</td>\n",
       "      <td>33.4685</td>\n",
       "      <td>-112.075</td>\n",
       "      <td>209</td>\n",
       "      <td>PHOENIX</td>\n",
       "      <td>-112.0830</td>\n",
       "      <td>33.4666</td>\n",
       "      <td>215</td>\n",
       "      <td>37.0580</td>\n",
       "      <td>66</td>\n",
       "      <td>Metropolitan Arts Institute</td>\n",
       "      <td>85007</td>\n",
       "      <td>7</td>\n",
       "      <td>12</td>\n",
       "      <td>0</td>\n",
       "      <td>1</td>\n",
       "      <td>0</td>\n",
       "      <td>254</td>\n",
       "      <td>0.039</td>\n",
       "      <td>0.012</td>\n",
       "      <td>0.004</td>\n",
       "      <td>0.350</td>\n",
       "      <td>0.004</td>\n",
       "      <td>0.055</td>\n",
       "      <td>0.535</td>\n",
       "      <td>0.599336</td>\n",
       "      <td>4</td>\n",
       "    </tr>\n",
       "    <tr>\n",
       "      <th>1</th>\n",
       "      <td>32755</td>\n",
       "      <td>oPPecxrC9rdgFxeufagGSA</td>\n",
       "      <td>['Professional Services', 'Lawyers', 'Real Est...</td>\n",
       "      <td>Law Offices of Roger K. Spencer, P.L.L.C</td>\n",
       "      <td>Phoenix</td>\n",
       "      <td>AZ</td>\n",
       "      <td>1 E Camelback Rd\\nSte 550\\nPhoenix, AZ 85012</td>\n",
       "      <td>33.5087</td>\n",
       "      <td>-112.073</td>\n",
       "      <td>71</td>\n",
       "      <td>PHOENIX</td>\n",
       "      <td>-112.0726</td>\n",
       "      <td>33.5024</td>\n",
       "      <td>2256</td>\n",
       "      <td>67.3883</td>\n",
       "      <td>234</td>\n",
       "      <td>Central High School</td>\n",
       "      <td>85012</td>\n",
       "      <td>9</td>\n",
       "      <td>12</td>\n",
       "      <td>1</td>\n",
       "      <td>0</td>\n",
       "      <td>0</td>\n",
       "      <td>2256</td>\n",
       "      <td>0.111</td>\n",
       "      <td>0.067</td>\n",
       "      <td>0.046</td>\n",
       "      <td>0.691</td>\n",
       "      <td>0.002</td>\n",
       "      <td>0.014</td>\n",
       "      <td>0.068</td>\n",
       "      <td>0.170789</td>\n",
       "      <td>0</td>\n",
       "    </tr>\n",
       "    <tr>\n",
       "      <th>2</th>\n",
       "      <td>32756</td>\n",
       "      <td>M-MFa0YErVBbFW2IJhGJmw</td>\n",
       "      <td>['Auto Repair', 'Automotive', 'Tires', 'Oil Ch...</td>\n",
       "      <td>Virginia Auto Service</td>\n",
       "      <td>Phoenix</td>\n",
       "      <td>AZ</td>\n",
       "      <td>386 E Virginia Ave\\nPhoenix, AZ 85004</td>\n",
       "      <td>33.4769</td>\n",
       "      <td>-112.066</td>\n",
       "      <td>29</td>\n",
       "      <td>PHOENIX</td>\n",
       "      <td>-112.0711</td>\n",
       "      <td>33.4762</td>\n",
       "      <td>619</td>\n",
       "      <td>57.1509</td>\n",
       "      <td>201</td>\n",
       "      <td>Arizona Insight Academy</td>\n",
       "      <td>85004</td>\n",
       "      <td>7</td>\n",
       "      <td>12</td>\n",
       "      <td>1</td>\n",
       "      <td>1</td>\n",
       "      <td>0</td>\n",
       "      <td>673</td>\n",
       "      <td>0.064</td>\n",
       "      <td>0.039</td>\n",
       "      <td>0.006</td>\n",
       "      <td>0.193</td>\n",
       "      <td>0.006</td>\n",
       "      <td>0.031</td>\n",
       "      <td>0.661</td>\n",
       "      <td>0.240624</td>\n",
       "      <td>1</td>\n",
       "    </tr>\n",
       "    <tr>\n",
       "      <th>3</th>\n",
       "      <td>32757</td>\n",
       "      <td>KPoTixdjoJxSqRSEApSAGg</td>\n",
       "      <td>['Thai', 'Restaurants']</td>\n",
       "      <td>Wild Thaiger</td>\n",
       "      <td>Phoenix</td>\n",
       "      <td>AZ</td>\n",
       "      <td>2631 N Central Ave\\nPhoenix, AZ 85004</td>\n",
       "      <td>33.4779</td>\n",
       "      <td>-112.073</td>\n",
       "      <td>29</td>\n",
       "      <td>PHOENIX</td>\n",
       "      <td>-112.0711</td>\n",
       "      <td>33.4762</td>\n",
       "      <td>619</td>\n",
       "      <td>57.1509</td>\n",
       "      <td>201</td>\n",
       "      <td>Arizona Insight Academy</td>\n",
       "      <td>85004</td>\n",
       "      <td>7</td>\n",
       "      <td>12</td>\n",
       "      <td>1</td>\n",
       "      <td>1</td>\n",
       "      <td>0</td>\n",
       "      <td>673</td>\n",
       "      <td>0.064</td>\n",
       "      <td>0.039</td>\n",
       "      <td>0.006</td>\n",
       "      <td>0.193</td>\n",
       "      <td>0.006</td>\n",
       "      <td>0.031</td>\n",
       "      <td>0.661</td>\n",
       "      <td>0.240624</td>\n",
       "      <td>1</td>\n",
       "    </tr>\n",
       "    <tr>\n",
       "      <th>4</th>\n",
       "      <td>32759</td>\n",
       "      <td>SG_gEmEXL4ID6RAEinC5Bg</td>\n",
       "      <td>['Museums', 'Arts &amp; Entertainment']</td>\n",
       "      <td>Heard Museum</td>\n",
       "      <td>Phoenix</td>\n",
       "      <td>AZ</td>\n",
       "      <td>2301 N Central Ave\\nPhoenix, AZ 85004</td>\n",
       "      <td>33.4725</td>\n",
       "      <td>-112.072</td>\n",
       "      <td>29</td>\n",
       "      <td>PHOENIX</td>\n",
       "      <td>-112.0711</td>\n",
       "      <td>33.4762</td>\n",
       "      <td>619</td>\n",
       "      <td>57.1509</td>\n",
       "      <td>201</td>\n",
       "      <td>Arizona Insight Academy</td>\n",
       "      <td>85004</td>\n",
       "      <td>7</td>\n",
       "      <td>12</td>\n",
       "      <td>1</td>\n",
       "      <td>1</td>\n",
       "      <td>0</td>\n",
       "      <td>673</td>\n",
       "      <td>0.064</td>\n",
       "      <td>0.039</td>\n",
       "      <td>0.006</td>\n",
       "      <td>0.193</td>\n",
       "      <td>0.006</td>\n",
       "      <td>0.031</td>\n",
       "      <td>0.661</td>\n",
       "      <td>0.240624</td>\n",
       "      <td>1</td>\n",
       "    </tr>\n",
       "  </tbody>\n",
       "</table>\n",
       "</div>"
      ],
      "text/plain": [
       "      id             business_id  \\\n",
       "0  32752  2ZnCITVa0abGce4gZ6RhIw   \n",
       "1  32755  oPPecxrC9rdgFxeufagGSA   \n",
       "2  32756  M-MFa0YErVBbFW2IJhGJmw   \n",
       "3  32757  KPoTixdjoJxSqRSEApSAGg   \n",
       "4  32759  SG_gEmEXL4ID6RAEinC5Bg   \n",
       "\n",
       "                                          categories  \\\n",
       "0    ['American (New)', 'Sandwiches', 'Restaurants']   \n",
       "1  ['Professional Services', 'Lawyers', 'Real Est...   \n",
       "2  ['Auto Repair', 'Automotive', 'Tires', 'Oil Ch...   \n",
       "3                            ['Thai', 'Restaurants']   \n",
       "4                ['Museums', 'Arts & Entertainment']   \n",
       "\n",
       "                                       name     city state  \\\n",
       "0                    Viad Tower Restaurants  Phoenix    AZ   \n",
       "1  Law Offices of Roger K. Spencer, P.L.L.C  Phoenix    AZ   \n",
       "2                     Virginia Auto Service  Phoenix    AZ   \n",
       "3                              Wild Thaiger  Phoenix    AZ   \n",
       "4                              Heard Museum  Phoenix    AZ   \n",
       "\n",
       "                                   full_address  latitude  longitude  \\\n",
       "0         1850 N Central Ave\\nPhoenix, AZ 85004   33.4685   -112.075   \n",
       "1  1 E Camelback Rd\\nSte 550\\nPhoenix, AZ 85012   33.5087   -112.073   \n",
       "2         386 E Virginia Ave\\nPhoenix, AZ 85004   33.4769   -112.066   \n",
       "3         2631 N Central Ave\\nPhoenix, AZ 85004   33.4779   -112.073   \n",
       "4         2301 N Central Ave\\nPhoenix, AZ 85004   33.4725   -112.072   \n",
       "\n",
       "   school_key    scity  sLongitude  sLatitude  High_School_Students  \\\n",
       "0         209  PHOENIX   -112.0830    33.4666                   215   \n",
       "1          71  PHOENIX   -112.0726    33.5024                  2256   \n",
       "2          29  PHOENIX   -112.0711    33.4762                   619   \n",
       "3          29  PHOENIX   -112.0711    33.4762                   619   \n",
       "4          29  PHOENIX   -112.0711    33.4762                   619   \n",
       "\n",
       "   econ_coef  Rank                  school_name    zip  Low_Grade  High_Grade  \\\n",
       "0    37.0580    66  Metropolitan Arts Institute  85007          7          12   \n",
       "1    67.3883   234          Central High School  85012          9          12   \n",
       "2    57.1509   201      Arizona Insight Academy  85004          7          12   \n",
       "3    57.1509   201      Arizona Insight Academy  85004          7          12   \n",
       "4    57.1509   201      Arizona Insight Academy  85004          7          12   \n",
       "\n",
       "   title_1  Charter  Magnet  num_students  Percent_African_American  \\\n",
       "0        0        1       0           254                     0.039   \n",
       "1        1        0       0          2256                     0.111   \n",
       "2        1        1       0           673                     0.064   \n",
       "3        1        1       0           673                     0.064   \n",
       "4        1        1       0           673                     0.064   \n",
       "\n",
       "   Percent_American_Indian  Percent_Asian  Percent_Hispanic  \\\n",
       "0                    0.012          0.004             0.350   \n",
       "1                    0.067          0.046             0.691   \n",
       "2                    0.039          0.006             0.193   \n",
       "3                    0.039          0.006             0.193   \n",
       "4                    0.039          0.006             0.193   \n",
       "\n",
       "   Percent_Pacific_Islander  Percent_Two_or_More_Races  Percent_White  \\\n",
       "0                     0.004                      0.055          0.535   \n",
       "1                     0.002                      0.014          0.068   \n",
       "2                     0.006                      0.031          0.661   \n",
       "3                     0.006                      0.031          0.661   \n",
       "4                     0.006                      0.031          0.661   \n",
       "\n",
       "      score  SchoolDigger_Rating  \n",
       "0  0.599336                    4  \n",
       "1  0.170789                    0  \n",
       "2  0.240624                    1  \n",
       "3  0.240624                    1  \n",
       "4  0.240624                    1  "
      ]
     },
     "execution_count": 158,
     "metadata": {},
     "output_type": "execute_result"
    }
   ],
   "source": [
    "import pandas as pd\n",
    "pd.set_option('display.max_columns', 500)\n",
    "\n",
    "df = pd.read_csv('final_az2.csv')\n",
    "df.head()"
   ]
  },
  {
   "cell_type": "code",
   "execution_count": 159,
   "metadata": {
    "collapsed": false
   },
   "outputs": [],
   "source": [
    "df['categories'] = map(lambda x : sorted(map(lambda y : y.lower(), eval(x))), df.categories.values)"
   ]
  },
  {
   "cell_type": "markdown",
   "metadata": {},
   "source": [
    "### Features - Find Numerical"
   ]
  },
  {
   "cell_type": "markdown",
   "metadata": {},
   "source": [
    "#### Public Services & Government Yelp Categories"
   ]
  },
  {
   "cell_type": "code",
   "execution_count": 160,
   "metadata": {
    "collapsed": true
   },
   "outputs": [],
   "source": [
    "mystery_feature = ['libraries']"
   ]
  },
  {
   "cell_type": "code",
   "execution_count": 161,
   "metadata": {
    "collapsed": false
   },
   "outputs": [],
   "source": [
    "df['mystery'] = df.categories.apply(lambda cats : len(set(cats) & set(mystery_feature)))"
   ]
  },
  {
   "cell_type": "code",
   "execution_count": 162,
   "metadata": {
    "collapsed": true
   },
   "outputs": [],
   "source": [
    "features = ['High_School_Students', 'econ_coef', 'num_students', 'Percent_African_American', 'Percent_American_Indian','Percent_Asian','Percent_Hispanic','Percent_Pacific_Islander', 'Percent_Two_or_More_Races', 'Percent_White', 'mystery']"
   ]
  },
  {
   "cell_type": "code",
   "execution_count": 147,
   "metadata": {
    "collapsed": false
   },
   "outputs": [],
   "source": [
    "import numpy as np\n",
    "\n",
    "feature_matrix = np.array(df[features[:-1]].as_matrix().tolist())\n",
    "feature_matrix\n",
    "\n",
    "def normalize(vector):\n",
    "    vector = ( np.array(vector) - min(vector) ) / (max(vector) - min(vector))\n",
    "    return vector\n",
    "\n",
    "for i in range(len(features[:-1])):\n",
    "    feature_matrix[:, i] = normalize(feature_matrix[:, i])"
   ]
  },
  {
   "cell_type": "code",
   "execution_count": 51,
   "metadata": {
    "collapsed": false
   },
   "outputs": [],
   "source": [
    "y = df.score"
   ]
  },
  {
   "cell_type": "markdown",
   "metadata": {},
   "source": [
    "### Split Train/Test Scores"
   ]
  },
  {
   "cell_type": "code",
   "execution_count": 148,
   "metadata": {
    "collapsed": true
   },
   "outputs": [],
   "source": [
    "from sklearn.cross_validation import train_test_split\n",
    "\n",
    "X_train, X_test, y_train, y_test = train_test_split(feature_matrix, y, test_size=0.60, random_state=42)"
   ]
  },
  {
   "cell_type": "markdown",
   "metadata": {},
   "source": [
    "### Training Our Model"
   ]
  },
  {
   "cell_type": "code",
   "execution_count": 149,
   "metadata": {
    "collapsed": false
   },
   "outputs": [],
   "source": [
    "import numpy as np\n",
    "from numpy.linalg import inv\n",
    "\n",
    "theta = np.dot(np.dot(np.linalg.inv(np.dot(X_train.T, X_train)), X_train.T), y_train)"
   ]
  },
  {
   "cell_type": "code",
   "execution_count": 150,
   "metadata": {
    "collapsed": false
   },
   "outputs": [
    {
     "data": {
      "text/plain": [
       "array([-0.33344457, -0.10561164,  0.14340223, -0.17251611, -0.1940064 ,\n",
       "        0.65494867,  0.424061  ,  0.06087246, -0.00919327,  0.65039907])"
      ]
     },
     "execution_count": 150,
     "metadata": {},
     "output_type": "execute_result"
    }
   ],
   "source": [
    "theta"
   ]
  },
  {
   "cell_type": "markdown",
   "metadata": {},
   "source": [
    "### Testing Our Model"
   ]
  },
  {
   "cell_type": "code",
   "execution_count": 151,
   "metadata": {
    "collapsed": true
   },
   "outputs": [],
   "source": [
    "y_predicted = np.dot(X_test, theta)"
   ]
  },
  {
   "cell_type": "code",
   "execution_count": 152,
   "metadata": {
    "collapsed": false
   },
   "outputs": [
    {
     "data": {
      "text/plain": [
       "0.68461379924618915"
      ]
     },
     "execution_count": 152,
     "metadata": {},
     "output_type": "execute_result"
    }
   ],
   "source": [
    "SS_explained = sum((y_test - y_predicted)**2)\n",
    "SS_totalvariance = sum((y_test - y_test.mean())**2)\n",
    "r2 = (1 - SS_explained/SS_totalvariance)\n",
    "r2"
   ]
  },
  {
   "cell_type": "markdown",
   "metadata": {},
   "source": [
    "### Jacob's Metric!"
   ]
  },
  {
   "cell_type": "code",
   "execution_count": 169,
   "metadata": {
    "collapsed": true
   },
   "outputs": [],
   "source": [
    "def jm(actual_values, predicted_values):\n",
    "    return sum(np.array(actual_values) - np.array(predicted_values))/len(actual_values)"
   ]
  },
  {
   "cell_type": "markdown",
   "metadata": {},
   "source": [
    "### Testing Our Model with Libraries Mystery Variable"
   ]
  },
  {
   "cell_type": "code",
   "execution_count": 163,
   "metadata": {
    "collapsed": false
   },
   "outputs": [],
   "source": [
    "feature_matrix = np.array(df[features].as_matrix().tolist())\n",
    "feature_matrix\n",
    "\n",
    "def normalize(vector):\n",
    "    vector = ( np.array(vector) - min(vector) ) / (max(vector) - min(vector))\n",
    "    return vector\n",
    "\n",
    "for i in range(len(features)):\n",
    "    feature_matrix[:, i] = normalize(feature_matrix[:, i])"
   ]
  },
  {
   "cell_type": "code",
   "execution_count": 164,
   "metadata": {
    "collapsed": true
   },
   "outputs": [],
   "source": [
    "X_train, X_test, y_train, y_test = train_test_split(feature_matrix, y, test_size=0.60, random_state=42)"
   ]
  },
  {
   "cell_type": "code",
   "execution_count": 165,
   "metadata": {
    "collapsed": true
   },
   "outputs": [],
   "source": [
    "theta = np.dot(np.dot(np.linalg.inv(np.dot(X_train.T, X_train)), X_train.T), y_train)"
   ]
  },
  {
   "cell_type": "code",
   "execution_count": 166,
   "metadata": {
    "collapsed": true
   },
   "outputs": [],
   "source": [
    "y_predicted = np.dot(X_test, theta)"
   ]
  },
  {
   "cell_type": "code",
   "execution_count": 167,
   "metadata": {
    "collapsed": false
   },
   "outputs": [
    {
     "data": {
      "text/plain": [
       "0.68459291069669148"
      ]
     },
     "execution_count": 167,
     "metadata": {},
     "output_type": "execute_result"
    }
   ],
   "source": [
    "SS_explained = sum((y_test - y_predicted)**2)\n",
    "SS_totalvariance = sum((y_test - y_test.mean())**2)\n",
    "r2 = (1 - SS_explained/SS_totalvariance)\n",
    "r2"
   ]
  },
  {
   "cell_type": "code",
   "execution_count": 170,
   "metadata": {
    "collapsed": false
   },
   "outputs": [
    {
     "data": {
      "text/plain": [
       "0.0022922516252704599"
      ]
     },
     "execution_count": 170,
     "metadata": {},
     "output_type": "execute_result"
    }
   ],
   "source": [
    "jm(y_test, y_predicted)"
   ]
  },
  {
   "cell_type": "markdown",
   "metadata": {},
   "source": [
    "### Testing Our Model with Mystery Variable in the form of Yelp Category"
   ]
  },
  {
   "cell_type": "code",
   "execution_count": 180,
   "metadata": {
    "collapsed": true
   },
   "outputs": [],
   "source": [
    "def test_model_with_mystery_variable(mystery_variable):\n",
    "    mystery_feature = [mystery_variable]\n",
    "    df['mystery'] = df.categories.apply(lambda cats : len(set(cats) & set(mystery_feature)))\n",
    "    features = ['High_School_Students', 'econ_coef', 'num_students', 'Percent_African_American', 'Percent_American_Indian','Percent_Asian','Percent_Hispanic','Percent_Pacific_Islander', 'Percent_Two_or_More_Races', 'Percent_White', 'mystery']    \n",
    "    feature_matrix = np.array(df[features].as_matrix().tolist())\n",
    "    feature_matrix\n",
    "\n",
    "    def normalize(vector):\n",
    "        vector = ( np.array(vector) - min(vector) ) / (max(vector) - min(vector))\n",
    "        return vector\n",
    "\n",
    "    for i in range(len(features)):\n",
    "        feature_matrix[:, i] = normalize(feature_matrix[:, i])\n",
    "    \n",
    "    X_train, X_test, y_train, y_test = train_test_split(feature_matrix, y, test_size=0.60, random_state=42)\n",
    "    \n",
    "    theta = np.dot(np.dot(np.linalg.inv(np.dot(X_train.T, X_train)), X_train.T), y_train)\n",
    "    \n",
    "    y_predicted = np.dot(X_test, theta)\n",
    "    \n",
    "    SS_explained = sum((y_test - y_predicted)**2)\n",
    "    SS_totalvariance = sum((y_test - y_test.mean())**2)\n",
    "    r2 = (1 - SS_explained/SS_totalvariance)\n",
    "    return r2, SS_totalvariance/len(y_test), jm(y_test, y_predicted)"
   ]
  },
  {
   "cell_type": "code",
   "execution_count": 181,
   "metadata": {
    "collapsed": false
   },
   "outputs": [
    {
     "data": {
      "text/plain": [
       "(0.68460734143779711, 0.043787808177269211, 0.0022894142398850615)"
      ]
     },
     "execution_count": 181,
     "metadata": {},
     "output_type": "execute_result"
    }
   ],
   "source": [
    "test_model_with_mystery_variable('parks')"
   ]
  },
  {
   "cell_type": "code",
   "execution_count": 184,
   "metadata": {
    "collapsed": false
   },
   "outputs": [
    {
     "data": {
      "text/plain": [
       "(0.68456025479413418, 0.043787808177269211, 0.0022910876111662173)"
      ]
     },
     "execution_count": 184,
     "metadata": {},
     "output_type": "execute_result"
    }
   ],
   "source": [
    "test_model_with_mystery_variable('bars')"
   ]
  },
  {
   "cell_type": "code",
   "execution_count": 185,
   "metadata": {
    "collapsed": false
   },
   "outputs": [
    {
     "data": {
      "text/plain": [
       "(0.68452374752696854, 0.043787808177269211, 0.0022646765895447561)"
      ]
     },
     "execution_count": 185,
     "metadata": {},
     "output_type": "execute_result"
    }
   ],
   "source": [
    "test_model_with_mystery_variable('festivals')"
   ]
  },
  {
   "cell_type": "code",
   "execution_count": 186,
   "metadata": {
    "collapsed": false
   },
   "outputs": [
    {
     "data": {
      "text/plain": [
       "(0.68478031444059229, 0.043787808177269211, 0.0022761484344705333)"
      ]
     },
     "execution_count": 186,
     "metadata": {},
     "output_type": "execute_result"
    }
   ],
   "source": [
    "test_model_with_mystery_variable('shopping')"
   ]
  },
  {
   "cell_type": "code",
   "execution_count": null,
   "metadata": {
    "collapsed": true
   },
   "outputs": [],
   "source": []
  }
 ],
 "metadata": {
  "kernelspec": {
   "display_name": "Python 2",
   "language": "python",
   "name": "python2"
  },
  "language_info": {
   "codemirror_mode": {
    "name": "ipython",
    "version": 2
   },
   "file_extension": ".py",
   "mimetype": "text/x-python",
   "name": "python",
   "nbconvert_exporter": "python",
   "pygments_lexer": "ipython2",
   "version": "2.7.11"
  }
 },
 "nbformat": 4,
 "nbformat_minor": 0
}
